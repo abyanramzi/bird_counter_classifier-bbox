{
  "cells": [
    {
      "cell_type": "markdown",
      "source": [
        "#Connect to GDrive#"
      ],
      "metadata": {
        "id": "eJa6LEI1COgs"
      }
    },
    {
      "cell_type": "code",
      "execution_count": null,
      "metadata": {
        "id": "7KRfa_XH5pi8",
        "colab": {
          "base_uri": "https://localhost:8080/"
        },
        "outputId": "9f84c41f-8af2-4cd7-aba3-951a7147f3a8"
      },
      "outputs": [
        {
          "output_type": "stream",
          "name": "stdout",
          "text": [
            "Mounted at /content/gdrive\n"
          ]
        }
      ],
      "source": [
        "from google.colab import drive\n",
        "drive.mount(\"/content/gdrive\")"
      ]
    },
    {
      "cell_type": "code",
      "execution_count": null,
      "metadata": {
        "id": "S3OjbqbP6ukJ"
      },
      "outputs": [],
      "source": [
        "#Your YOLOv7 Path\n",
        "%cd /content/gdrive/MyDrive/TestYoloV7/yolov7"
      ]
    },
    {
      "cell_type": "code",
      "source": [
        "!pwd"
      ],
      "metadata": {
        "colab": {
          "base_uri": "https://localhost:8080/"
        },
        "id": "r_tfZvwfDVfo",
        "outputId": "6986fb42-d15d-4121-84b5-a6dbb133ccce"
      },
      "execution_count": 1,
      "outputs": [
        {
          "output_type": "stream",
          "name": "stdout",
          "text": [
            "/content\n"
          ]
        }
      ]
    },
    {
      "cell_type": "markdown",
      "source": [
        "#Get YOLOv7 Model#"
      ],
      "metadata": {
        "id": "6EuyctMBDLVE"
      }
    },
    {
      "cell_type": "markdown",
      "source": [
        "YOLOv7"
      ],
      "metadata": {
        "id": "x2c46HEzDs82"
      }
    },
    {
      "cell_type": "code",
      "execution_count": null,
      "metadata": {
        "id": "jtFiDUAntqMp"
      },
      "outputs": [],
      "source": [
        "!wget https://github.com/WongKinYiu/yolov7/releases/download/v0.1/yolov7.pt"
      ]
    },
    {
      "cell_type": "markdown",
      "source": [
        "YOLOv7-X"
      ],
      "metadata": {
        "id": "9aGkochiDxBg"
      }
    },
    {
      "cell_type": "code",
      "source": [
        "!wget https://github.com/WongKinYiu/yolov7/releases/download/v0.1/yolov7x.pt"
      ],
      "metadata": {
        "id": "NdBZO2KID7OD"
      },
      "execution_count": null,
      "outputs": []
    },
    {
      "cell_type": "markdown",
      "source": [
        "#Train Model#"
      ],
      "metadata": {
        "id": "ECvBUcOGEPUT"
      }
    },
    {
      "cell_type": "code",
      "execution_count": null,
      "metadata": {
        "id": "O2IUr-ZityHn"
      },
      "outputs": [],
      "source": [
        "!python train.py --device 0 --batch-size 16 --img 640 640 --data data/data.yaml --hyp data/hyp.scratch.custom.yaml --cfg cfg/training/yolov7-custom.yaml --weights yolov7.pt --name train-result"
      ]
    },
    {
      "cell_type": "markdown",
      "source": [
        "#Detect#"
      ],
      "metadata": {
        "id": "LLkC72O4ETY6"
      }
    },
    {
      "cell_type": "code",
      "execution_count": null,
      "metadata": {
        "id": "nlQpMhgpvzqo"
      },
      "outputs": [],
      "source": [
        "!python detect.py --weights runs/train/yolov7-custom/weights/best.pt --conf 0.9 --img-size 640 --source data/test/test2.jpg --no-trace"
      ]
    }
  ],
  "metadata": {
    "accelerator": "GPU",
    "colab": {
      "provenance": []
    },
    "gpuClass": "standard",
    "kernelspec": {
      "display_name": "Python 3",
      "name": "python3"
    },
    "language_info": {
      "name": "python"
    }
  },
  "nbformat": 4,
  "nbformat_minor": 0
}